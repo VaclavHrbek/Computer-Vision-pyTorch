{
  "nbformat": 4,
  "nbformat_minor": 0,
  "metadata": {
    "colab": {
      "provenance": [],
      "authorship_tag": "ABX9TyNiaj4zXvF5C849LSsU9NNi",
      "include_colab_link": true
    },
    "kernelspec": {
      "name": "python3",
      "display_name": "Python 3"
    },
    "language_info": {
      "name": "python"
    }
  },
  "cells": [
    {
      "cell_type": "markdown",
      "metadata": {
        "id": "view-in-github",
        "colab_type": "text"
      },
      "source": [
        "<a href=\"https://colab.research.google.com/github/VaclavHrbek/Computer-Vision-pyTorch/blob/main/computer_vision_pyTorch_02.ipynb\" target=\"_parent\"><img src=\"https://colab.research.google.com/assets/colab-badge.svg\" alt=\"Open In Colab\"/></a>"
      ]
    },
    {
      "cell_type": "markdown",
      "source": [
        "Import all necessary files"
      ],
      "metadata": {
        "id": "1QpcuVaO1gWJ"
      }
    },
    {
      "cell_type": "code",
      "execution_count": null,
      "metadata": {
        "colab": {
          "base_uri": "https://localhost:8080/"
        },
        "id": "Ge88jrgC1VEP",
        "outputId": "0847f4f7-088a-48e2-f689-911283fed09a"
      },
      "outputs": [
        {
          "output_type": "stream",
          "name": "stdout",
          "text": [
            "1.12.1+cu113\n"
          ]
        }
      ],
      "source": [
        "import torch\n",
        "print(torch.__version__)"
      ]
    },
    {
      "cell_type": "markdown",
      "source": [],
      "metadata": {
        "id": "7kVn2gZA1enX"
      }
    },
    {
      "cell_type": "code",
      "source": [],
      "metadata": {
        "id": "LGQ74eyv1evm"
      },
      "execution_count": null,
      "outputs": []
    },
    {
      "cell_type": "markdown",
      "source": [],
      "metadata": {
        "id": "6mNhA8UX1e2H"
      }
    },
    {
      "cell_type": "code",
      "source": [],
      "metadata": {
        "id": "H0t2l-eZ1e72"
      },
      "execution_count": null,
      "outputs": []
    },
    {
      "cell_type": "markdown",
      "source": [],
      "metadata": {
        "id": "ZKeQ1gfZ1f4_"
      }
    }
  ]
}